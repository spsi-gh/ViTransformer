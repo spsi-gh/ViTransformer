{
  "cells": [
    {
      "cell_type": "code",
      "execution_count": 1,
      "metadata": {},
      "outputs": [],
      "source": [
        "import sys\n",
        "from pathlib import Path\n",
        "\n",
        "sys.path.append(str(Path().resolve().parent))\n"
      ]
    },
    {
      "cell_type": "code",
      "execution_count": 50,
      "metadata": {},
      "outputs": [
        {
          "name": "stdout",
          "output_type": "stream",
          "text": [
            "Requirement already satisfied: pip in c:\\users\\spsra\\onedrive\\desktop\\vit\\venv311\\lib\\site-packages (24.0)\n",
            "Collecting pip\n",
            "  Using cached pip-25.1.1-py3-none-any.whl.metadata (3.6 kB)\n",
            "Using cached pip-25.1.1-py3-none-any.whl (1.8 MB)\n"
          ]
        },
        {
          "name": "stderr",
          "output_type": "stream",
          "text": [
            "ERROR: To modify pip, please run the following command:\n",
            "C:\\Users\\spsra\\OneDrive\\Desktop\\ViT\\venv311\\Scripts\\python.exe -m pip install --upgrade pip\n",
            "\n",
            "[notice] A new release of pip is available: 24.0 -> 25.1.1\n",
            "[notice] To update, run: python.exe -m pip install --upgrade pip\n"
          ]
        },
        {
          "name": "stdout",
          "output_type": "stream",
          "text": [
            "Looking in indexes: https://download.pytorch.org/whl/cu121\n",
            "Requirement already satisfied: torch in c:\\users\\spsra\\onedrive\\desktop\\vit\\venv311\\lib\\site-packages (2.5.1+cu121)\n",
            "Requirement already satisfied: torchvision in c:\\users\\spsra\\onedrive\\desktop\\vit\\venv311\\lib\\site-packages (0.20.1+cu121)\n",
            "Requirement already satisfied: torchaudio in c:\\users\\spsra\\onedrive\\desktop\\vit\\venv311\\lib\\site-packages (2.5.1+cu121)\n",
            "Requirement already satisfied: filelock in c:\\users\\spsra\\onedrive\\desktop\\vit\\venv311\\lib\\site-packages (from torch) (3.13.1)\n",
            "Requirement already satisfied: typing-extensions>=4.8.0 in c:\\users\\spsra\\onedrive\\desktop\\vit\\venv311\\lib\\site-packages (from torch) (4.14.1)\n",
            "Requirement already satisfied: networkx in c:\\users\\spsra\\onedrive\\desktop\\vit\\venv311\\lib\\site-packages (from torch) (3.3)\n",
            "Requirement already satisfied: jinja2 in c:\\users\\spsra\\onedrive\\desktop\\vit\\venv311\\lib\\site-packages (from torch) (3.1.4)\n",
            "Requirement already satisfied: fsspec in c:\\users\\spsra\\onedrive\\desktop\\vit\\venv311\\lib\\site-packages (from torch) (2024.6.1)\n",
            "Requirement already satisfied: sympy==1.13.1 in c:\\users\\spsra\\onedrive\\desktop\\vit\\venv311\\lib\\site-packages (from torch) (1.13.1)\n",
            "Requirement already satisfied: mpmath<1.4,>=1.1.0 in c:\\users\\spsra\\onedrive\\desktop\\vit\\venv311\\lib\\site-packages (from sympy==1.13.1->torch) (1.3.0)\n",
            "Requirement already satisfied: numpy in c:\\users\\spsra\\onedrive\\desktop\\vit\\venv311\\lib\\site-packages (from torchvision) (2.1.2)\n",
            "Requirement already satisfied: pillow!=8.3.*,>=5.3.0 in c:\\users\\spsra\\onedrive\\desktop\\vit\\venv311\\lib\\site-packages (from torchvision) (11.0.0)\n",
            "Requirement already satisfied: MarkupSafe>=2.0 in c:\\users\\spsra\\onedrive\\desktop\\vit\\venv311\\lib\\site-packages (from jinja2->torch) (2.1.5)\n"
          ]
        },
        {
          "name": "stderr",
          "output_type": "stream",
          "text": [
            "\n",
            "[notice] A new release of pip is available: 24.0 -> 25.1.1\n",
            "[notice] To update, run: python.exe -m pip install --upgrade pip\n"
          ]
        }
      ],
      "source": [
        "!pip install --upgrade pip\n",
        "!pip install torch torchvision torchaudio --index-url https://download.pytorch.org/whl/cu121"
      ]
    },
    {
      "cell_type": "code",
      "execution_count": 2,
      "metadata": {},
      "outputs": [],
      "source": [
        "import torch\n",
        "import torchvision"
      ]
    },
    {
      "cell_type": "code",
      "execution_count": 3,
      "metadata": {
        "colab": {
          "base_uri": "https://localhost:8080/"
        },
        "id": "kaUamzUwAR-9",
        "outputId": "aa3e65ed-d59a-4c7a-eb4e-0d8332a0caf2"
      },
      "outputs": [],
      "source": [
        "try:\n",
        "  from torchinfo import summary\n",
        "except:\n",
        "  print(f\"[INFO] torchinfo not found, installing....\")\n",
        "  !pip install -q torchinfo\n",
        "  from torchinfo import summary"
      ]
    },
    {
      "cell_type": "code",
      "execution_count": 4,
      "metadata": {
        "id": "7cmR8cB71tbZ"
      },
      "outputs": [],
      "source": [
        "from torchvision import transforms\n",
        "transform = transforms.Compose([\n",
        "            transforms.Resize(size= (32, 32)),\n",
        "            transforms.ToTensor()\n",
        "])"
      ]
    },
    {
      "cell_type": "code",
      "execution_count": 5,
      "metadata": {
        "colab": {
          "base_uri": "https://localhost:8080/"
        },
        "id": "5GXm8EPc2GP-",
        "outputId": "ffc06ed9-8912-452d-87b7-832e760cb4c0"
      },
      "outputs": [
        {
          "name": "stdout",
          "output_type": "stream",
          "text": [
            "Files already downloaded and verified\n",
            "Files already downloaded and verified\n"
          ]
        }
      ],
      "source": [
        "from scripts.data_setup import create_dataloaders\n",
        "train_dataloader, test_dataloader, class_names = create_dataloaders(transform=transform,\n",
        "                   batch_size= 32\n",
        "                   )"
      ]
    },
    {
      "cell_type": "code",
      "execution_count": null,
      "metadata": {},
      "outputs": [],
      "source": [
        "import torch\n",
        "import gelu_cuda  \n",
        "\n",
        "class CustomGELUFunction(torch.autograd.Function):\n",
        "    @staticmethod\n",
        "    def forward(ctx, input):\n",
        "        return gelu_cuda.gelu_forward(input.contiguous())\n",
        "\n",
        "class CustomGELU(nn.Module):\n",
        "    def forward(self, x):\n",
        "        return CustomGELUFunction.apply(x)\n"
      ]
    },
    {
      "cell_type": "code",
      "execution_count": 6,
      "metadata": {
        "colab": {
          "base_uri": "https://localhost:8080/"
        },
        "id": "JZYa3ii62Qu9",
        "outputId": "7ddb407a-3b2a-4ec4-c409-026dfeffa7e2"
      },
      "outputs": [
        {
          "data": {
            "text/plain": [
              "(torch.Size([32, 3, 32, 32]),\n",
              " tensor([3, 1, 9, 8, 9, 1, 9, 9, 0, 4, 3, 0, 2, 0, 3, 2, 2, 1, 1, 7, 1, 8, 1, 5,\n",
              "         6, 2, 0, 1, 5, 9, 9, 9]))"
            ]
          },
          "execution_count": 6,
          "metadata": {},
          "output_type": "execute_result"
        }
      ],
      "source": [
        "train_features, train_labels = next(iter(train_dataloader))\n",
        "train_features.shape, train_labels"
      ]
    },
    {
      "cell_type": "code",
      "execution_count": 7,
      "metadata": {
        "colab": {
          "base_uri": "https://localhost:8080/"
        },
        "id": "FFrzYHQD4JHt",
        "outputId": "06ccbb7d-2fd2-4885-8990-75abde8c6b7f"
      },
      "outputs": [
        {
          "data": {
            "text/plain": [
              "(torch.Size([3, 32, 32]), tensor(1))"
            ]
          },
          "execution_count": 7,
          "metadata": {},
          "output_type": "execute_result"
        }
      ],
      "source": [
        "image, label = train_features[1], train_labels[1]\n",
        "image.shape, label"
      ]
    },
    {
      "cell_type": "code",
      "execution_count": null,
      "metadata": {},
      "outputs": [
        {
          "name": "stdout",
          "output_type": "stream",
          "text": [
            "Collecting matplotlib\n",
            "  Downloading matplotlib-3.10.3-cp311-cp311-win_amd64.whl.metadata (11 kB)\n",
            "Collecting contourpy>=1.0.1 (from matplotlib)\n",
            "  Downloading contourpy-1.3.2-cp311-cp311-win_amd64.whl.metadata (5.5 kB)\n",
            "Collecting cycler>=0.10 (from matplotlib)\n",
            "  Using cached cycler-0.12.1-py3-none-any.whl.metadata (3.8 kB)\n",
            "Collecting fonttools>=4.22.0 (from matplotlib)\n",
            "  Downloading fonttools-4.58.5-cp311-cp311-win_amd64.whl.metadata (109 kB)\n",
            "     ---------------------------------------- 0.0/109.0 kB ? eta -:--:--\n",
            "     --- ------------------------------------ 10.2/109.0 kB ? eta -:--:--\n",
            "     -------------------------------- ------ 92.2/109.0 kB 1.0 MB/s eta 0:00:01\n",
            "     ----------------------------------- -- 102.4/109.0 kB 1.2 MB/s eta 0:00:01\n",
            "     ------------------------------------ 109.0/109.0 kB 790.4 kB/s eta 0:00:00\n",
            "Collecting kiwisolver>=1.3.1 (from matplotlib)\n",
            "  Downloading kiwisolver-1.4.8-cp311-cp311-win_amd64.whl.metadata (6.3 kB)\n",
            "Requirement already satisfied: numpy>=1.23 in c:\\users\\spsra\\onedrive\\desktop\\vit\\venv311\\lib\\site-packages (from matplotlib) (2.1.2)\n",
            "Requirement already satisfied: packaging>=20.0 in c:\\users\\spsra\\onedrive\\desktop\\vit\\venv311\\lib\\site-packages (from matplotlib) (25.0)\n",
            "Requirement already satisfied: pillow>=8 in c:\\users\\spsra\\onedrive\\desktop\\vit\\venv311\\lib\\site-packages (from matplotlib) (11.0.0)\n",
            "Collecting pyparsing>=2.3.1 (from matplotlib)\n",
            "  Using cached pyparsing-3.2.3-py3-none-any.whl.metadata (5.0 kB)\n",
            "Requirement already satisfied: python-dateutil>=2.7 in c:\\users\\spsra\\onedrive\\desktop\\vit\\venv311\\lib\\site-packages (from matplotlib) (2.9.0.post0)\n",
            "Requirement already satisfied: six>=1.5 in c:\\users\\spsra\\onedrive\\desktop\\vit\\venv311\\lib\\site-packages (from python-dateutil>=2.7->matplotlib) (1.17.0)\n",
            "Downloading matplotlib-3.10.3-cp311-cp311-win_amd64.whl (8.1 MB)\n",
            "   ---------------------------------------- 0.0/8.1 MB ? eta -:--:--\n",
            "   -- ------------------------------------- 0.5/8.1 MB 10.7 MB/s eta 0:00:01\n",
            "   ---------- ----------------------------- 2.0/8.1 MB 18.6 MB/s eta 0:00:01\n",
            "   ------------- -------------------------- 2.8/8.1 MB 17.7 MB/s eta 0:00:01\n",
            "   ------------------ --------------------- 3.7/8.1 MB 19.7 MB/s eta 0:00:01\n",
            "   ------------------- -------------------- 3.9/8.1 MB 15.5 MB/s eta 0:00:01\n",
            "   -------------------- ------------------- 4.2/8.1 MB 14.1 MB/s eta 0:00:01\n",
            "   --------------------- ------------------ 4.4/8.1 MB 13.5 MB/s eta 0:00:01\n",
            "   ----------------------- ---------------- 4.7/8.1 MB 12.1 MB/s eta 0:00:01\n",
            "   ------------------------ --------------- 4.9/8.1 MB 11.2 MB/s eta 0:00:01\n",
            "   ------------------------- -------------- 5.2/8.1 MB 10.7 MB/s eta 0:00:01\n",
            "   -------------------------- ------------- 5.4/8.1 MB 10.1 MB/s eta 0:00:01\n",
            "   ---------------------------- ----------- 5.7/8.1 MB 9.8 MB/s eta 0:00:01\n",
            "   ----------------------------- ---------- 5.9/8.1 MB 9.4 MB/s eta 0:00:01\n",
            "   ----------------------------- ---------- 6.0/8.1 MB 8.9 MB/s eta 0:00:01\n",
            "   ------------------------------ --------- 6.1/8.1 MB 8.7 MB/s eta 0:00:01\n",
            "   ------------------------------ --------- 6.2/8.1 MB 8.1 MB/s eta 0:00:01\n",
            "   ------------------------------- -------- 6.3/8.1 MB 7.7 MB/s eta 0:00:01\n",
            "   ------------------------------- -------- 6.4/8.1 MB 7.4 MB/s eta 0:00:01\n",
            "   ------------------------------- -------- 6.5/8.1 MB 7.1 MB/s eta 0:00:01\n",
            "   -------------------------------- ------- 6.6/8.1 MB 6.9 MB/s eta 0:00:01\n",
            "   -------------------------------- ------- 6.6/8.1 MB 6.6 MB/s eta 0:00:01\n",
            "   --------------------------------- ------ 6.7/8.1 MB 6.4 MB/s eta 0:00:01\n",
            "   ---------------------------------- ----- 6.9/8.1 MB 6.3 MB/s eta 0:00:01\n",
            "   ---------------------------------- ----- 7.0/8.1 MB 6.1 MB/s eta 0:00:01\n",
            "   ----------------------------------- ---- 7.1/8.1 MB 6.0 MB/s eta 0:00:01\n",
            "   ----------------------------------- ---- 7.2/8.1 MB 5.8 MB/s eta 0:00:01\n",
            "   ------------------------------------ --- 7.4/8.1 MB 5.7 MB/s eta 0:00:01\n",
            "   ------------------------------------- -- 7.5/8.1 MB 5.6 MB/s eta 0:00:01\n",
            "   ------------------------------------- -- 7.6/8.1 MB 5.5 MB/s eta 0:00:01\n",
            "   -------------------------------------- - 7.8/8.1 MB 5.5 MB/s eta 0:00:01\n",
            "   ---------------------------------------  7.9/8.1 MB 5.4 MB/s eta 0:00:01\n",
            "   ---------------------------------------  8.0/8.1 MB 5.3 MB/s eta 0:00:01\n",
            "   ---------------------------------------  8.1/8.1 MB 5.3 MB/s eta 0:00:01\n",
            "   ---------------------------------------- 8.1/8.1 MB 5.1 MB/s eta 0:00:00\n",
            "Downloading contourpy-1.3.2-cp311-cp311-win_amd64.whl (222 kB)\n",
            "   ---------------------------------------- 0.0/222.0 kB ? eta -:--:--\n",
            "   ----------------------------------- ---- 194.6/222.0 kB 4.0 MB/s eta 0:00:01\n",
            "   ---------------------------------------- 222.0/222.0 kB 3.4 MB/s eta 0:00:00\n",
            "Using cached cycler-0.12.1-py3-none-any.whl (8.3 kB)\n",
            "Downloading fonttools-4.58.5-cp311-cp311-win_amd64.whl (2.2 MB)\n",
            "   ---------------------------------------- 0.0/2.2 MB ? eta -:--:--\n",
            "   --- ------------------------------------ 0.2/2.2 MB 3.6 MB/s eta 0:00:01\n",
            "   ------ --------------------------------- 0.3/2.2 MB 3.5 MB/s eta 0:00:01\n",
            "   -------- ------------------------------- 0.5/2.2 MB 3.9 MB/s eta 0:00:01\n",
            "   ------------ --------------------------- 0.7/2.2 MB 4.0 MB/s eta 0:00:01\n",
            "   --------------- ------------------------ 0.9/2.2 MB 4.0 MB/s eta 0:00:01\n",
            "   ------------------- -------------------- 1.1/2.2 MB 3.8 MB/s eta 0:00:01\n",
            "   ---------------------- ----------------- 1.3/2.2 MB 3.9 MB/s eta 0:00:01\n",
            "   -------------------------- ------------- 1.5/2.2 MB 4.1 MB/s eta 0:00:01\n",
            "   ----------------------------- ---------- 1.7/2.2 MB 4.1 MB/s eta 0:00:01\n",
            "   --------------------------------- ------ 1.9/2.2 MB 4.2 MB/s eta 0:00:01\n",
            "   ------------------------------------- -- 2.1/2.2 MB 4.2 MB/s eta 0:00:01\n",
            "   ---------------------------------------  2.2/2.2 MB 4.2 MB/s eta 0:00:01\n",
            "   ---------------------------------------- 2.2/2.2 MB 4.0 MB/s eta 0:00:00\n",
            "Downloading kiwisolver-1.4.8-cp311-cp311-win_amd64.whl (71 kB)\n",
            "   ---------------------------------------- 0.0/72.0 kB ? eta -:--:--\n",
            "   ---------------------------------------- 72.0/72.0 kB 3.9 MB/s eta 0:00:00\n",
            "Using cached pyparsing-3.2.3-py3-none-any.whl (111 kB)\n",
            "Installing collected packages: pyparsing, kiwisolver, fonttools, cycler, contourpy, matplotlib\n",
            "Successfully installed contourpy-1.3.2 cycler-0.12.1 fonttools-4.58.5 kiwisolver-1.4.8 matplotlib-3.10.3 pyparsing-3.2.3\n"
          ]
        },
        {
          "name": "stderr",
          "output_type": "stream",
          "text": [
            "\n",
            "[notice] A new release of pip is available: 24.0 -> 25.1.1\n",
            "[notice] To update, run: python.exe -m pip install --upgrade pip\n"
          ]
        }
      ],
      "source": [
        "!pip install matplotlib"
      ]
    },
    {
      "cell_type": "code",
      "execution_count": 8,
      "metadata": {
        "colab": {
          "base_uri": "https://localhost:8080/",
          "height": 445
        },
        "id": "5QSuYrbn5W3n",
        "outputId": "b28f8f22-f865-451b-a177-0a2bfb434e33"
      },
      "outputs": [
        {
          "data": {
            "text/plain": [
              "(np.float64(-0.5), np.float64(31.5), np.float64(31.5), np.float64(-0.5))"
            ]
          },
          "execution_count": 8,
          "metadata": {},
          "output_type": "execute_result"
        },
        {
          "data": {
            "image/png": "[encoded data removed]",
            "text/plain": [
              "<Figure size 640x480 with 1 Axes>"
            ]
          },
          "metadata": {},
          "output_type": "display_data"
        }
      ],
      "source": [
        "import matplotlib.pyplot as plt\n",
        "plt.imshow(image.permute(1, 2, 0))\n",
        "plt.title(class_names[label])\n",
        "plt.axis(False)"
      ]
    },
    {
      "cell_type": "code",
      "execution_count": 9,
      "metadata": {
        "colab": {
          "base_uri": "https://localhost:8080/"
        },
        "id": "tfKXHNu95e14",
        "outputId": "d8a33f0c-55ab-4a1f-f98a-5fbd6907c723"
      },
      "outputs": [
        {
          "name": "stdout",
          "output_type": "stream",
          "text": [
            "Number of Patches: 64\n",
            "Embedding Input Layer: (1, 32, 32)\n",
            "Embedding Output Layer: (1, 64, 48)\n"
          ]
        }
      ],
      "source": [
        "IMG_SIZE = 32\n",
        "PATCH_SIZE = 4\n",
        "\n",
        "assert IMG_SIZE % PATCH_SIZE == 0, \"Image Size is not divisible by Patch Size\"\n",
        "number_of_patches = int((IMG_SIZE*IMG_SIZE) / PATCH_SIZE**2)\n",
        "\n",
        "print(f\"Number of Patches: {number_of_patches}\")\n",
        "embedding_output_layer = (1, number_of_patches, PATCH_SIZE**2 *3)\n",
        "print(\"Embedding Input Layer: (1, 32, 32)\")\n",
        "print(f\"Embedding Output Layer: {embedding_output_layer}\")"
      ]
    },
    {
      "cell_type": "code",
      "execution_count": 10,
      "metadata": {
        "id": "b5IdRb0XBiwf"
      },
      "outputs": [],
      "source": [
        "image_permuted = image.permute(1, 2, 0)"
      ]
    },
    {
      "cell_type": "code",
      "execution_count": 11,
      "metadata": {
        "colab": {
          "base_uri": "https://localhost:8080/",
          "height": 707
        },
        "id": "yDnlm2UQ_fUb",
        "outputId": "a9a59621-19bb-45e2-86cc-6bae6c00e242"
      },
      "outputs": [
        {
          "name": "stdout",
          "output_type": "stream",
          "text": [
            "Number of patches per row: 8.0\n",
            " Patch Size: 4 pixels by 4 pixels\n"
          ]
        },
        {
          "data": {
            "image/png": "[encoded data removed]",
            "text/plain": [
              "<Figure size 800x800 with 64 Axes>"
            ]
          },
          "metadata": {},
          "output_type": "display_data"
        }
      ],
      "source": [
        "img_size = 32\n",
        "patch_size = 4\n",
        "num_patches = img_size / patch_size\n",
        "\n",
        "assert img_size%patch_size == 0, \"Image size must be divisible by patch_size\"\n",
        "print(f\"Number of patches per row: {num_patches}\\n Patch Size: {patch_size} pixels by {patch_size} pixels\")\n",
        "\n",
        "fig, axs = plt.subplots(nrows = img_size // patch_size,\n",
        "                        ncols= img_size // patch_size,\n",
        "                        figsize=(num_patches, num_patches),\n",
        "                        sharex= True,\n",
        "                        sharey= True)\n",
        "\n",
        "\n",
        "for i, patch_height in enumerate(range(0, img_size, patch_size)):\n",
        "  for j, patch_width in enumerate(range(0, img_size, patch_size)):\n",
        "    axs[i, j].imshow(image_permuted[patch_height:patch_height + patch_size, patch_width:patch_width + patch_size, :])\n",
        "    axs[i, j].set_ylabel(i+1,\n",
        "                        rotation=\"horizontal\",\n",
        "                        horizontalalignment=\"right\",\n",
        "                        verticalalignment=\"center\")\n",
        "    axs[i, j].set_xlabel(j+1)\n",
        "    axs[i,j].set_xticks([])\n",
        "    axs[i, j].set_yticks([])\n",
        "    axs[i, j].label_outer()"
      ]
    },
    {
      "cell_type": "code",
      "execution_count": 12,
      "metadata": {
        "colab": {
          "base_uri": "https://localhost:8080/"
        },
        "id": "shsGaQQCBYEv",
        "outputId": "91dc7475-9ed0-4490-cecd-db23d9af7bf3"
      },
      "outputs": [
        {
          "data": {
            "text/plain": [
              "torch.Size([3, 32, 32])"
            ]
          },
          "execution_count": 12,
          "metadata": {},
          "output_type": "execute_result"
        }
      ],
      "source": [
        "image.shape"
      ]
    },
    {
      "cell_type": "code",
      "execution_count": 13,
      "metadata": {
        "id": "sA9N8jEnFQh-"
      },
      "outputs": [],
      "source": [
        "# Creating Patch and Position Embedding Layers"
      ]
    },
    {
      "cell_type": "code",
      "execution_count": 14,
      "metadata": {
        "id": "CcvXcTcBG6MC"
      },
      "outputs": [],
      "source": [
        "from torch import nn"
      ]
    },
    {
      "cell_type": "code",
      "execution_count": 15,
      "metadata": {
        "id": "S4ToD_XcFlMX"
      },
      "outputs": [],
      "source": [
        "class PatchEmbedding(torch.nn.Module):\n",
        "  def __init__(self,\n",
        "               in_channels:int = 3,\n",
        "               embedding_dim:int = 128,\n",
        "               patch_size= 4):\n",
        "    super().__init__()\n",
        "\n",
        "    self.patcher = nn.Conv2d(in_channels= in_channels,\n",
        "                             out_channels= embedding_dim,\n",
        "                             kernel_size= patch_size,\n",
        "                             stride= patch_size,\n",
        "                             padding = 0)\n",
        "\n",
        "    self.flatten = nn.Flatten(start_dim = 2, end_dim = 3)\n",
        "\n",
        "  def forward(self, x):\n",
        "    x = self.patcher(x)\n",
        "    x = self.flatten(x)\n",
        "    return x.permute(0, 2, 1)"
      ]
    },
    {
      "cell_type": "code",
      "execution_count": 16,
      "metadata": {
        "colab": {
          "base_uri": "https://localhost:8080/"
        },
        "id": "Kctc5JxJGsgD",
        "outputId": "f149cc85-4b3d-4fbb-968b-75a347b103d2"
      },
      "outputs": [
        {
          "data": {
            "text/plain": [
              "torch.Size([1, 64, 128])"
            ]
          },
          "execution_count": 16,
          "metadata": {},
          "output_type": "execute_result"
        }
      ],
      "source": [
        "x = image.unsqueeze(dim = 0)\n",
        "patch_embedding_layer = PatchEmbedding()\n",
        "patch_embedding = patch_embedding_layer(x)\n",
        "patch_embedding.shape"
      ]
    },
    {
      "cell_type": "code",
      "execution_count": 17,
      "metadata": {
        "colab": {
          "base_uri": "https://localhost:8080/"
        },
        "id": "73uD66PYHJYa",
        "outputId": "127aa747-7f22-4ca1-feac-5caa9b2efca7"
      },
      "outputs": [
        {
          "data": {
            "text/plain": [
              "torch.Size([1, 65, 128])"
            ]
          },
          "execution_count": 17,
          "metadata": {},
          "output_type": "execute_result"
        }
      ],
      "source": [
        "batch_size = x.shape[0]\n",
        "embedding_dim = 128\n",
        "class_token = nn.Parameter(torch.randn(batch_size, 1, embedding_dim),\n",
        "                           requires_grad=True)\n",
        "class_token_embedding = torch.cat((class_token, patch_embedding), dim = 1)\n",
        "class_token_embedding.shape"
      ]
    },
    {
      "cell_type": "code",
      "execution_count": 18,
      "metadata": {
        "colab": {
          "base_uri": "https://localhost:8080/"
        },
        "id": "yC8ST6nkJGOD",
        "outputId": "40a511f3-26aa-4b73-e894-68e605832a69"
      },
      "outputs": [
        {
          "data": {
            "text/plain": [
              "torch.Size([1, 65, 128])"
            ]
          },
          "execution_count": 18,
          "metadata": {},
          "output_type": "execute_result"
        }
      ],
      "source": [
        "num_of_patches = int((img_size*img_size)/patch_size**2)\n",
        "position_embedding = nn.Parameter(torch.randn(batch_size, num_of_patches+1, embedding_dim),\n",
        "                                  requires_grad= True)\n",
        "\n",
        "position_and_patch_embedding = class_token_embedding + position_embedding\n",
        "position_and_patch_embedding.shape"
      ]
    },
    {
      "cell_type": "code",
      "execution_count": 19,
      "metadata": {
        "colab": {
          "base_uri": "https://localhost:8080/",
          "height": 64
        },
        "id": "4wtaRVt5JuPp",
        "outputId": "0654f8c9-2650-4a43-c687-b79b2883b368"
      },
      "outputs": [
        {
          "data": {
            "text/plain": [
              "<matplotlib.image.AxesImage at 0x2a99f17d910>"
            ]
          },
          "execution_count": 19,
          "metadata": {},
          "output_type": "execute_result"
        },
        {
          "data": {
            "image/png": "[encoded data removed]",
            "text/plain": [
              "<Figure size 900x900 with 1 Axes>"
            ]
          },
          "metadata": {},
          "output_type": "display_data"
        }
      ],
      "source": [
        "single_flatten_image = position_embedding[:, :, 0]\n",
        "plt.figure(figsize = (9, 9))\n",
        "plt.axis(False)\n",
        "plt.imshow(single_flatten_image.detach().numpy())"
      ]
    },
    {
      "cell_type": "code",
      "execution_count": 20,
      "metadata": {
        "id": "x9JgffjD4nF2"
      },
      "outputs": [],
      "source": [
        "# Mulit-Head Attention"
      ]
    },
    {
      "cell_type": "code",
      "execution_count": 21,
      "metadata": {
        "id": "7Mhb_Veg667K"
      },
      "outputs": [],
      "source": [
        "class MultiHeadSelfAttentionBlock(torch.nn.Module):\n",
        "  def __init__(self,\n",
        "               embedding_dim: int = 128,\n",
        "               num_heads: int = 8,\n",
        "               attn_dropout: float = 0):\n",
        "    super().__init__()\n",
        "\n",
        "    self.layer_norm = nn.LayerNorm(normalized_shape=embedding_dim)\n",
        "\n",
        "    self.msa_layer = nn.MultiheadAttention(embed_dim= embedding_dim,\n",
        "                                           num_heads = num_heads,\n",
        "                                           dropout= attn_dropout,\n",
        "                                           batch_first= True)\n",
        "\n",
        "  def forward(self, x):\n",
        "    x = self.layer_norm(x)\n",
        "    attn_output, _ = self.msa_layer(query = x,\n",
        "                                    key= x,\n",
        "                                    value= x,\n",
        "                                    need_weights = False)\n",
        "    return attn_output"
      ]
    },
    {
      "cell_type": "code",
      "execution_count": 22,
      "metadata": {
        "colab": {
          "base_uri": "https://localhost:8080/"
        },
        "id": "iweGh39f8S4U",
        "outputId": "62edbbd3-b689-4b9d-cd80-edbe142d4982"
      },
      "outputs": [
        {
          "data": {
            "text/plain": [
              "torch.Size([1, 65, 128])"
            ]
          },
          "execution_count": 22,
          "metadata": {},
          "output_type": "execute_result"
        }
      ],
      "source": [
        "msa_block = MultiHeadSelfAttentionBlock()\n",
        "patched_image_through_msa = msa_block(position_and_patch_embedding)\n",
        "patched_image_through_msa.shape"
      ]
    },
    {
      "cell_type": "code",
      "execution_count": null,
      "metadata": {
        "id": "ZZPezVPi8tqi"
      },
      "outputs": [],
      "source": [
        "class MLPBlock(torch.nn.Module):\n",
        "  def __init__(self,\n",
        "               embedding_dim: int = 128,\n",
        "               mlp_size:int = 128*4,\n",
        "               mlp_dropout:float = 0.1):\n",
        "    super().__init__()\n",
        "\n",
        "    self.layer_norm = nn.LayerNorm(normalized_shape= embedding_dim)\n",
        "\n",
        "    self.mlp = nn.Sequential(\n",
        "               nn.Linear(in_features = embedding_dim,\n",
        "                         out_features = mlp_size),\n",
        "               CustomGELU(),\n",
        "               nn.Dropout(p=mlp_dropout),\n",
        "               nn.Linear(in_features= mlp_size,\n",
        "                         out_features= embedding_dim),\n",
        "               nn.Dropout(p= mlp_dropout)\n",
        "    )\n",
        "\n",
        "  def forward(self, x):\n",
        "    x= self.layer_norm(x)\n",
        "    x = self.mlp(x)\n",
        "    return x"
      ]
    },
    {
      "cell_type": "code",
      "execution_count": 24,
      "metadata": {
        "colab": {
          "base_uri": "https://localhost:8080/"
        },
        "id": "QN5iGYcEAGe6",
        "outputId": "6f5be9ba-52a3-4e24-aeff-ea0634be5193"
      },
      "outputs": [
        {
          "data": {
            "text/plain": [
              "torch.Size([1, 65, 128])"
            ]
          },
          "execution_count": 24,
          "metadata": {},
          "output_type": "execute_result"
        }
      ],
      "source": [
        "mlp_block = MLPBlock()\n",
        "patched_image_through_mlp = mlp_block(patched_image_through_msa)\n",
        "patched_image_through_mlp.shape"
      ]
    },
    {
      "cell_type": "code",
      "execution_count": 25,
      "metadata": {
        "colab": {
          "base_uri": "https://localhost:8080/"
        },
        "id": "4blpVu7wAOoS",
        "outputId": "45a5fdf2-b3bf-4081-a1c1-4f4881e35b9e"
      },
      "outputs": [
        {
          "data": {
            "text/plain": [
              "========================================================================================================================\n",
              "Layer (type (var_name))                  Input Shape          Output Shape         Param #              Trainable\n",
              "========================================================================================================================\n",
              "MLPBlock (MLPBlock)                      [1, 65, 128]         [1, 65, 128]         --                   True\n",
              "├─LayerNorm (layer_norm)                 [1, 65, 128]         [1, 65, 128]         256                  True\n",
              "├─Sequential (mlp)                       [1, 65, 128]         [1, 65, 128]         --                   True\n",
              "│    └─Linear (0)                        [1, 65, 128]         [1, 65, 512]         66,048               True\n",
              "│    └─GELU (1)                          [1, 65, 512]         [1, 65, 512]         --                   --\n",
              "│    └─Dropout (2)                       [1, 65, 512]         [1, 65, 512]         --                   --\n",
              "│    └─Linear (3)                        [1, 65, 512]         [1, 65, 128]         65,664               True\n",
              "│    └─Dropout (4)                       [1, 65, 128]         [1, 65, 128]         --                   --\n",
              "========================================================================================================================\n",
              "Total params: 131,968\n",
              "Trainable params: 131,968\n",
              "Non-trainable params: 0\n",
              "Total mult-adds (Units.MEGABYTES): 0.13\n",
              "========================================================================================================================\n",
              "Input size (MB): 0.03\n",
              "Forward/backward pass size (MB): 0.40\n",
              "Params size (MB): 0.53\n",
              "Estimated Total Size (MB): 0.96\n",
              "========================================================================================================================"
            ]
          },
          "execution_count": 25,
          "metadata": {},
          "output_type": "execute_result"
        }
      ],
      "source": [
        "summary(model= mlp_block,\n",
        "        input_size = (1, 65, 128),\n",
        "        col_names=[\"input_size\", \"output_size\", \"num_params\", \"trainable\"],\n",
        "        col_width = 20,\n",
        "        row_settings=[\"var_names\"])\n"
      ]
    },
    {
      "cell_type": "code",
      "execution_count": 26,
      "metadata": {
        "id": "pa3KSwJEBG38"
      },
      "outputs": [],
      "source": [
        "# creating Transformer Block"
      ]
    },
    {
      "cell_type": "code",
      "execution_count": 27,
      "metadata": {
        "id": "EnpfC75cGusW"
      },
      "outputs": [],
      "source": [
        "class TransformerEncoderBlock(torch.nn.Module):\n",
        "  def __init__(self,\n",
        "               embedding_dim:int = 128,\n",
        "               num_heads:int = 8,\n",
        "               attn_dropout:float = 0,\n",
        "               mlp_size:int = 128*4,\n",
        "               mlp_dropout:float = 0.1):\n",
        "    super().__init__()\n",
        "\n",
        "    self.msa_block = MultiHeadSelfAttentionBlock(embedding_dim=embedding_dim,\n",
        "                                                 num_heads= num_heads,\n",
        "                                                 attn_dropout=attn_dropout)\n",
        "\n",
        "    self.mlp_block = MLPBlock(embedding_dim=embedding_dim,\n",
        "                              mlp_size= mlp_size,\n",
        "                              mlp_dropout=mlp_dropout)\n",
        "\n",
        "  def forward(self, x):\n",
        "    x = self.msa_block(x) + x\n",
        "    x = self.mlp_block(x) + x\n",
        "    return x"
      ]
    },
    {
      "cell_type": "code",
      "execution_count": 28,
      "metadata": {
        "colab": {
          "base_uri": "https://localhost:8080/"
        },
        "id": "_3bapxg7Hs3H",
        "outputId": "9a10a3fa-c629-4f29-e818-cf3edfa6d9aa"
      },
      "outputs": [
        {
          "data": {
            "text/plain": [
              "torch.Size([1, 65, 128])"
            ]
          },
          "execution_count": 28,
          "metadata": {},
          "output_type": "execute_result"
        }
      ],
      "source": [
        "transformer_block = TransformerEncoderBlock()\n",
        "patched_image_through_transformer_block = transformer_block(patched_image_through_mlp)\n",
        "patched_image_through_transformer_block.shape"
      ]
    },
    {
      "cell_type": "code",
      "execution_count": 29,
      "metadata": {
        "colab": {
          "base_uri": "https://localhost:8080/"
        },
        "id": "uD5vg8l4H39P",
        "outputId": "fffb947b-3953-4ba1-878d-a14f21f24d94"
      },
      "outputs": [
        {
          "data": {
            "text/plain": [
              "==================================================================================================================================\n",
              "Layer (type (var_name))                            Input Shape          Output Shape         Param #              Trainable\n",
              "==================================================================================================================================\n",
              "TransformerEncoderBlock (TransformerEncoderBlock)  [1, 65, 128]         [1, 65, 128]         --                   True\n",
              "├─MultiHeadSelfAttentionBlock (msa_block)          [1, 65, 128]         [1, 65, 128]         --                   True\n",
              "│    └─LayerNorm (layer_norm)                      [1, 65, 128]         [1, 65, 128]         256                  True\n",
              "│    └─MultiheadAttention (msa_layer)              --                   [1, 65, 128]         66,048               True\n",
              "├─MLPBlock (mlp_block)                             [1, 65, 128]         [1, 65, 128]         --                   True\n",
              "│    └─LayerNorm (layer_norm)                      [1, 65, 128]         [1, 65, 128]         256                  True\n",
              "│    └─Sequential (mlp)                            [1, 65, 128]         [1, 65, 128]         --                   True\n",
              "│    │    └─Linear (0)                             [1, 65, 128]         [1, 65, 512]         66,048               True\n",
              "│    │    └─GELU (1)                               [1, 65, 512]         [1, 65, 512]         --                   --\n",
              "│    │    └─Dropout (2)                            [1, 65, 512]         [1, 65, 512]         --                   --\n",
              "│    │    └─Linear (3)                             [1, 65, 512]         [1, 65, 128]         65,664               True\n",
              "│    │    └─Dropout (4)                            [1, 65, 128]         [1, 65, 128]         --                   --\n",
              "==================================================================================================================================\n",
              "Total params: 198,272\n",
              "Trainable params: 198,272\n",
              "Non-trainable params: 0\n",
              "Total mult-adds (Units.MEGABYTES): 0.13\n",
              "==================================================================================================================================\n",
              "Input size (MB): 0.03\n",
              "Forward/backward pass size (MB): 0.47\n",
              "Params size (MB): 0.53\n",
              "Estimated Total Size (MB): 1.03\n",
              "=================================================================================================================================="
            ]
          },
          "execution_count": 29,
          "metadata": {},
          "output_type": "execute_result"
        }
      ],
      "source": [
        "summary(model= transformer_block,\n",
        "        input_size = (1, 65, 128),\n",
        "        col_names=[\"input_size\", \"output_size\", \"num_params\", \"trainable\"],\n",
        "        col_width = 20,\n",
        "        row_settings=[\"var_names\"])"
      ]
    },
    {
      "cell_type": "code",
      "execution_count": 30,
      "metadata": {
        "id": "kj95qG86H9Hv"
      },
      "outputs": [],
      "source": [
        "class ViT(torch.nn.Module):\n",
        "  def __init__(self,\n",
        "               img_size:int = 32,\n",
        "               patch_size:int = 4,\n",
        "               embedding_dim:int = 128,\n",
        "               embedding_dropout:float = 0.1,\n",
        "               in_channels:int = 3,\n",
        "               num_heads:int = 8,\n",
        "               attn_dropout:float = 0,\n",
        "               mlp_size:int = 128*4,\n",
        "               mlp_dropout:float = 0.1,\n",
        "               num_transformer_layer:int = 8,\n",
        "               num_class:int = 10):\n",
        "\n",
        "\n",
        "      super().__init__()\n",
        "\n",
        "      assert img_size % patch_size == 0, \"Image Size is not divisible by Patch Size\"\n",
        "\n",
        "      self.num_of_patches = int((img_size*img_size) / patch_size**2)\n",
        "\n",
        "      self.patch_embedding = PatchEmbedding(in_channels= in_channels,\n",
        "                                            embedding_dim= embedding_dim,\n",
        "                                            patch_size= patch_size)\n",
        "      self.class_embedding = nn.Parameter(torch.randn(1, 1, embedding_dim),\n",
        "                                      requires_grad= True)\n",
        "\n",
        "      self.position_embedding = nn.Parameter(torch.randn(1, num_of_patches+1, embedding_dim),\n",
        "                                             requires_grad= True)\n",
        "\n",
        "      self.embedding_dropout = nn.Dropout(p= embedding_dropout)\n",
        "\n",
        "      self.transformer_encoder = nn.Sequential(*[TransformerEncoderBlock(embedding_dim= embedding_dim,\n",
        "                                                                          num_heads= num_heads,\n",
        "                                                                          attn_dropout= attn_dropout,\n",
        "                                                                          mlp_size= mlp_size,\n",
        "                                                                          mlp_dropout= mlp_dropout) for _ in range(num_transformer_layer)])\n",
        "\n",
        "      self.classifier = nn.Sequential(\n",
        "                        nn.LayerNorm(normalized_shape= embedding_dim),\n",
        "                        nn.Linear(in_features= embedding_dim,\n",
        "                                  out_features= num_class)\n",
        "      )\n",
        "\n",
        "  def forward(self, x):\n",
        "    batch_size = x.shape[0]\n",
        "\n",
        "    class_token = self.class_embedding.expand(batch_size, -1, -1)\n",
        "\n",
        "    x = self.patch_embedding(x)\n",
        "    x = torch.cat((class_token, x), dim = 1)\n",
        "    x = self.position_embedding + x\n",
        "    x = self.embedding_dropout(x)\n",
        "    x = self.transformer_encoder(x)\n",
        "    x = self.classifier(x[:, 0])\n",
        "\n",
        "    return x"
      ]
    },
    {
      "cell_type": "code",
      "execution_count": 31,
      "metadata": {
        "id": "vRWxjTkckOf-"
      },
      "outputs": [],
      "source": [
        "vit = ViT()"
      ]
    },
    {
      "cell_type": "code",
      "execution_count": 32,
      "metadata": {
        "colab": {
          "base_uri": "https://localhost:8080/"
        },
        "id": "A0YVu9_vjO6J",
        "outputId": "3feca848-0ef5-41af-f9c6-1ec3d4b1baad"
      },
      "outputs": [
        {
          "data": {
            "text/plain": [
              "=======================================================================================================================================\n",
              "Layer (type (var_name))                                 Input Shape          Output Shape         Param #              Trainable\n",
              "=======================================================================================================================================\n",
              "ViT (ViT)                                               [32, 3, 32, 32]      [32, 10]             8,448                True\n",
              "├─PatchEmbedding (patch_embedding)                      [32, 3, 32, 32]      [32, 64, 128]        --                   True\n",
              "│    └─Conv2d (patcher)                                 [32, 3, 32, 32]      [32, 128, 8, 8]      6,272                True\n",
              "│    └─Flatten (flatten)                                [32, 128, 8, 8]      [32, 128, 64]        --                   --\n",
              "├─Dropout (embedding_dropout)                           [32, 65, 128]        [32, 65, 128]        --                   --\n",
              "├─Sequential (transformer_encoder)                      [32, 65, 128]        [32, 65, 128]        --                   True\n",
              "│    └─TransformerEncoderBlock (0)                      [32, 65, 128]        [32, 65, 128]        --                   True\n",
              "│    │    └─MultiHeadSelfAttentionBlock (msa_block)     [32, 65, 128]        [32, 65, 128]        66,304               True\n",
              "│    │    └─MLPBlock (mlp_block)                        [32, 65, 128]        [32, 65, 128]        131,968              True\n",
              "│    └─TransformerEncoderBlock (1)                      [32, 65, 128]        [32, 65, 128]        --                   True\n",
              "│    │    └─MultiHeadSelfAttentionBlock (msa_block)     [32, 65, 128]        [32, 65, 128]        66,304               True\n",
              "│    │    └─MLPBlock (mlp_block)                        [32, 65, 128]        [32, 65, 128]        131,968              True\n",
              "│    └─TransformerEncoderBlock (2)                      [32, 65, 128]        [32, 65, 128]        --                   True\n",
              "│    │    └─MultiHeadSelfAttentionBlock (msa_block)     [32, 65, 128]        [32, 65, 128]        66,304               True\n",
              "│    │    └─MLPBlock (mlp_block)                        [32, 65, 128]        [32, 65, 128]        131,968              True\n",
              "│    └─TransformerEncoderBlock (3)                      [32, 65, 128]        [32, 65, 128]        --                   True\n",
              "│    │    └─MultiHeadSelfAttentionBlock (msa_block)     [32, 65, 128]        [32, 65, 128]        66,304               True\n",
              "│    │    └─MLPBlock (mlp_block)                        [32, 65, 128]        [32, 65, 128]        131,968              True\n",
              "│    └─TransformerEncoderBlock (4)                      [32, 65, 128]        [32, 65, 128]        --                   True\n",
              "│    │    └─MultiHeadSelfAttentionBlock (msa_block)     [32, 65, 128]        [32, 65, 128]        66,304               True\n",
              "│    │    └─MLPBlock (mlp_block)                        [32, 65, 128]        [32, 65, 128]        131,968              True\n",
              "│    └─TransformerEncoderBlock (5)                      [32, 65, 128]        [32, 65, 128]        --                   True\n",
              "│    │    └─MultiHeadSelfAttentionBlock (msa_block)     [32, 65, 128]        [32, 65, 128]        66,304               True\n",
              "│    │    └─MLPBlock (mlp_block)                        [32, 65, 128]        [32, 65, 128]        131,968              True\n",
              "│    └─TransformerEncoderBlock (6)                      [32, 65, 128]        [32, 65, 128]        --                   True\n",
              "│    │    └─MultiHeadSelfAttentionBlock (msa_block)     [32, 65, 128]        [32, 65, 128]        66,304               True\n",
              "│    │    └─MLPBlock (mlp_block)                        [32, 65, 128]        [32, 65, 128]        131,968              True\n",
              "│    └─TransformerEncoderBlock (7)                      [32, 65, 128]        [32, 65, 128]        --                   True\n",
              "│    │    └─MultiHeadSelfAttentionBlock (msa_block)     [32, 65, 128]        [32, 65, 128]        66,304               True\n",
              "│    │    └─MLPBlock (mlp_block)                        [32, 65, 128]        [32, 65, 128]        131,968              True\n",
              "├─Sequential (classifier)                               [32, 128]            [32, 10]             --                   True\n",
              "│    └─LayerNorm (0)                                    [32, 128]            [32, 128]            256                  True\n",
              "│    └─Linear (1)                                       [32, 128]            [32, 10]             1,290                True\n",
              "=======================================================================================================================================\n",
              "Total params: 1,602,442\n",
              "Trainable params: 1,602,442\n",
              "Non-trainable params: 0\n",
              "Total mult-adds (Units.MEGABYTES): 46.74\n",
              "=======================================================================================================================================\n",
              "Input size (MB): 0.39\n",
              "Forward/backward pass size (MB): 121.41\n",
              "Params size (MB): 4.26\n",
              "Estimated Total Size (MB): 126.06\n",
              "======================================================================================================================================="
            ]
          },
          "execution_count": 32,
          "metadata": {},
          "output_type": "execute_result"
        }
      ],
      "source": [
        "summary(model=vit,\n",
        "        input_size=(32, 3, 32, 32), \n",
        "        col_names=[\"input_size\", \"output_size\", \"num_params\", \"trainable\"],\n",
        "        col_width=20,\n",
        "        row_settings=[\"var_names\"]\n",
        ")"
      ]
    },
    {
      "cell_type": "code",
      "execution_count": 33,
      "metadata": {},
      "outputs": [
        {
          "name": "stdout",
          "output_type": "stream",
          "text": [
            "12.1\n",
            "True\n",
            "1\n"
          ]
        }
      ],
      "source": [
        "import torch\n",
        "print(torch.version.cuda)\n",
        "print(torch.cuda.is_available())\n",
        "print(torch.cuda.device_count())"
      ]
    },
    {
      "cell_type": "code",
      "execution_count": 34,
      "metadata": {
        "id": "LaPKmgVLk6gu"
      },
      "outputs": [
        {
          "data": {
            "text/plain": [
              "'cuda'"
            ]
          },
          "execution_count": 34,
          "metadata": {},
          "output_type": "execute_result"
        }
      ],
      "source": [
        "device = \"cuda\" if torch.cuda.is_available() else \"cpu\"\n",
        "device"
      ]
    },
    {
      "cell_type": "code",
      "execution_count": 35,
      "metadata": {},
      "outputs": [
        {
          "data": {
            "text/plain": [
              "device(type='cuda', index=0)"
            ]
          },
          "execution_count": 35,
          "metadata": {},
          "output_type": "execute_result"
        }
      ],
      "source": [
        "vit = vit.to(device)\n",
        "next(vit.parameters()).device"
      ]
    },
    {
      "cell_type": "code",
      "execution_count": null,
      "metadata": {},
      "outputs": [
        {
          "name": "stdout",
          "output_type": "stream",
          "text": [
            "Collecting tqdm\n",
            "  Using cached tqdm-4.67.1-py3-none-any.whl.metadata (57 kB)\n",
            "Requirement already satisfied: colorama in c:\\users\\spsra\\onedrive\\desktop\\vit\\venv311\\lib\\site-packages (from tqdm) (0.4.6)\n",
            "Using cached tqdm-4.67.1-py3-none-any.whl (78 kB)\n",
            "Installing collected packages: tqdm\n",
            "Successfully installed tqdm-4.67.1\n"
          ]
        },
        {
          "name": "stderr",
          "output_type": "stream",
          "text": [
            "\n",
            "[notice] A new release of pip is available: 24.0 -> 25.1.1\n",
            "[notice] To update, run: python.exe -m pip install --upgrade pip\n"
          ]
        }
      ],
      "source": [
        "!pip install tqdm"
      ]
    },
    {
      "cell_type": "code",
      "execution_count": 36,
      "metadata": {
        "colab": {
          "base_uri": "https://localhost:8080/",
          "height": 223,
          "referenced_widgets": [
            "493c13b06b6b42c78e9fb221c5692291",
            "a4a082f09b57429a8570d30902f2309c",
            "47b8e7817bbb4b5ebb8f61af6b5385a0",
            "462b9d74130f443b8c19e21aa3803e71",
            "d8ec8a605e084cd1a09b7c3aa98f9d95",
            "c7b1ff15444f430fa44677c79c27874a",
            "ca7442d9e17c45e79c9dee1f30e3b80a",
            "7ae63e3eea7e43bf8e2b9c388f6fe4f2",
            "f5f348ae34a344c8a4cb6a8370826b47",
            "dab293faa96c41c9bd7520505f23eece",
            "8a9135e7790e4ba39c6751fab60c67bc"
          ]
        },
        "id": "uutVSdYFjD_7",
        "outputId": "991d1545-c5a4-40e1-e25b-2365bbc9753a"
      },
      "outputs": [
        {
          "name": "stderr",
          "output_type": "stream",
          "text": [
            "c:\\Users\\spsra\\OneDrive\\Desktop\\ViT\\venv311\\Lib\\site-packages\\tqdm\\auto.py:21: TqdmWarning: IProgress not found. Please update jupyter and ipywidgets. See https://ipywidgets.readthedocs.io/en/stable/user_install.html\n",
            "  from .autonotebook import tqdm as notebook_tqdm\n",
            "  0%|          | 0/10 [00:00<?, ?it/s]"
          ]
        },
        {
          "name": "stderr",
          "output_type": "stream",
          "text": [
            " 10%|█         | 1/10 [03:25<30:45, 205.04s/it]"
          ]
        },
        {
          "name": "stdout",
          "output_type": "stream",
          "text": [
            "Epoch: 1 | train_loss: 1.8965 | train_acc: 0.3020 | test_loss: 1.6579 | test_acc: 0.4097 | \n"
          ]
        },
        {
          "name": "stderr",
          "output_type": "stream",
          "text": [
            " 20%|██        | 2/10 [06:48<27:10, 203.86s/it]"
          ]
        },
        {
          "name": "stdout",
          "output_type": "stream",
          "text": [
            "Epoch: 2 | train_loss: 1.5898 | train_acc: 0.4273 | test_loss: 1.4628 | test_acc: 0.4727 | \n"
          ]
        },
        {
          "name": "stderr",
          "output_type": "stream",
          "text": [
            " 30%|███       | 3/10 [10:00<23:11, 198.84s/it]"
          ]
        },
        {
          "name": "stdout",
          "output_type": "stream",
          "text": [
            "Epoch: 3 | train_loss: 1.4566 | train_acc: 0.4760 | test_loss: 1.3484 | test_acc: 0.5170 | \n"
          ]
        },
        {
          "name": "stderr",
          "output_type": "stream",
          "text": [
            " 40%|████      | 4/10 [13:18<19:50, 198.42s/it]"
          ]
        },
        {
          "name": "stdout",
          "output_type": "stream",
          "text": [
            "Epoch: 4 | train_loss: 1.3719 | train_acc: 0.5050 | test_loss: 1.3231 | test_acc: 0.5232 | \n"
          ]
        },
        {
          "name": "stderr",
          "output_type": "stream",
          "text": [
            " 50%|█████     | 5/10 [17:00<17:14, 206.99s/it]"
          ]
        },
        {
          "name": "stdout",
          "output_type": "stream",
          "text": [
            "Epoch: 5 | train_loss: 1.3028 | train_acc: 0.5333 | test_loss: 1.2644 | test_acc: 0.5431 | \n"
          ]
        },
        {
          "name": "stderr",
          "output_type": "stream",
          "text": [
            " 60%|██████    | 6/10 [19:59<13:08, 197.24s/it]"
          ]
        },
        {
          "name": "stdout",
          "output_type": "stream",
          "text": [
            "Epoch: 6 | train_loss: 1.2434 | train_acc: 0.5533 | test_loss: 1.2346 | test_acc: 0.5577 | \n"
          ]
        },
        {
          "name": "stderr",
          "output_type": "stream",
          "text": [
            " 70%|███████   | 7/10 [23:19<09:55, 198.37s/it]"
          ]
        },
        {
          "name": "stdout",
          "output_type": "stream",
          "text": [
            "Epoch: 7 | train_loss: 1.1921 | train_acc: 0.5727 | test_loss: 1.1884 | test_acc: 0.5739 | \n"
          ]
        },
        {
          "name": "stderr",
          "output_type": "stream",
          "text": [
            " 80%|████████  | 8/10 [28:23<07:43, 231.76s/it]"
          ]
        },
        {
          "name": "stdout",
          "output_type": "stream",
          "text": [
            "Epoch: 8 | train_loss: 1.1414 | train_acc: 0.5910 | test_loss: 1.1631 | test_acc: 0.5853 | \n"
          ]
        },
        {
          "name": "stderr",
          "output_type": "stream",
          "text": [
            " 90%|█████████ | 9/10 [32:57<04:04, 244.95s/it]"
          ]
        },
        {
          "name": "stdout",
          "output_type": "stream",
          "text": [
            "Epoch: 9 | train_loss: 1.0967 | train_acc: 0.6075 | test_loss: 1.1388 | test_acc: 0.5941 | \n"
          ]
        },
        {
          "name": "stderr",
          "output_type": "stream",
          "text": [
            "100%|██████████| 10/10 [37:19<00:00, 223.97s/it]"
          ]
        },
        {
          "name": "stdout",
          "output_type": "stream",
          "text": [
            "Epoch: 10 | train_loss: 1.0572 | train_acc: 0.6216 | test_loss: 1.1512 | test_acc: 0.5948 | \n"
          ]
        },
        {
          "name": "stderr",
          "output_type": "stream",
          "text": [
            "\n"
          ]
        }
      ],
      "source": [
        "from scripts.engine import train\n",
        "\n",
        "optimizer = torch.optim.AdamW(\n",
        "    vit.parameters(),\n",
        "    lr=3e-4,\n",
        "    weight_decay=0.05,\n",
        "    betas=(0.9, 0.999)\n",
        ")\n",
        "\n",
        "loss_fn = torch.nn.CrossEntropyLoss()\n",
        "\n",
        "\n",
        "\n",
        "results = train(model = vit,\n",
        "                       train_dataloader= train_dataloader,\n",
        "                       test_dataloader= test_dataloader,\n",
        "                       optimizer = optimizer,\n",
        "                       loss_fn = loss_fn,\n",
        "                       epochs = 10,\n",
        "                       device = device)"
      ]
    },
    {
      "cell_type": "code",
      "execution_count": null,
      "metadata": {},
      "outputs": [],
      "source": []
    }
  ],
  "metadata": {
    "accelerator": "GPU",
    "colab": {
      "gpuType": "T4",
      "provenance": [],
      "toc_visible": true
    },
    "kernelspec": {
      "display_name": "venv311",
      "language": "python",
      "name": "python3"
    },
    "language_info": {
      "codemirror_mode": {
        "name": "ipython",
        "version": 3
      },
      "file_extension": ".py",
      "mimetype": "text/x-python",
      "name": "python",
      "nbconvert_exporter": "python",
      "pygments_lexer": "ipython3",
      "version": "3.11.9"
    },
    "widgets": {
      "application/vnd.jupyter.widget-state+json": {
        "462b9d74130f443b8c19e21aa3803e71": {
          "model_module": "@jupyter-widgets/controls",
          "model_module_version": "1.5.0",
          "model_name": "HTMLModel",
          "state": {
            "_dom_classes": [],
            "_model_module": "@jupyter-widgets/controls",
            "_model_module_version": "1.5.0",
            "_model_name": "HTMLModel",
            "_view_count": null,
            "_view_module": "@jupyter-widgets/controls",
            "_view_module_version": "1.5.0",
            "_view_name": "HTMLView",
            "description": "",
            "description_tooltip": null,
            "layout": "IPY_MODEL_dab293faa96c41c9bd7520505f23eece",
            "placeholder": "​",
            "style": "IPY_MODEL_8a9135e7790e4ba39c6751fab60c67bc",
            "value": " 10/10 [08:23&lt;00:00, 51.62s/it]"
          }
        },
        "47b8e7817bbb4b5ebb8f61af6b5385a0": {
          "model_module": "@jupyter-widgets/controls",
          "model_module_version": "1.5.0",
          "model_name": "FloatProgressModel",
          "state": {
            "_dom_classes": [],
            "_model_module": "@jupyter-widgets/controls",
            "_model_module_version": "1.5.0",
            "_model_name": "FloatProgressModel",
            "_view_count": null,
            "_view_module": "@jupyter-widgets/controls",
            "_view_module_version": "1.5.0",
            "_view_name": "ProgressView",
            "bar_style": "success",
            "description": "",
            "description_tooltip": null,
            "layout": "IPY_MODEL_7ae63e3eea7e43bf8e2b9c388f6fe4f2",
            "max": 10,
            "min": 0,
            "orientation": "horizontal",
            "style": "IPY_MODEL_f5f348ae34a344c8a4cb6a8370826b47",
            "value": 10
          }
        },
        "493c13b06b6b42c78e9fb221c5692291": {
          "model_module": "@jupyter-widgets/controls",
          "model_module_version": "1.5.0",
          "model_name": "HBoxModel",
          "state": {
            "_dom_classes": [],
            "_model_module": "@jupyter-widgets/controls",
            "_model_module_version": "1.5.0",
            "_model_name": "HBoxModel",
            "_view_count": null,
            "_view_module": "@jupyter-widgets/controls",
            "_view_module_version": "1.5.0",
            "_view_name": "HBoxView",
            "box_style": "",
            "children": [
              "IPY_MODEL_a4a082f09b57429a8570d30902f2309c",
              "IPY_MODEL_47b8e7817bbb4b5ebb8f61af6b5385a0",
              "IPY_MODEL_462b9d74130f443b8c19e21aa3803e71"
            ],
            "layout": "IPY_MODEL_d8ec8a605e084cd1a09b7c3aa98f9d95"
          }
        },
        "7ae63e3eea7e43bf8e2b9c388f6fe4f2": {
          "model_module": "@jupyter-widgets/base",
          "model_module_version": "1.2.0",
          "model_name": "LayoutModel",
          "state": {
            "_model_module": "@jupyter-widgets/base",
            "_model_module_version": "1.2.0",
            "_model_name": "LayoutModel",
            "_view_count": null,
            "_view_module": "@jupyter-widgets/base",
            "_view_module_version": "1.2.0",
            "_view_name": "LayoutView",
            "align_content": null,
            "align_items": null,
            "align_self": null,
            "border": null,
            "bottom": null,
            "display": null,
            "flex": null,
            "flex_flow": null,
            "grid_area": null,
            "grid_auto_columns": null,
            "grid_auto_flow": null,
            "grid_auto_rows": null,
            "grid_column": null,
            "grid_gap": null,
            "grid_row": null,
            "grid_template_areas": null,
            "grid_template_columns": null,
            "grid_template_rows": null,
            "height": null,
            "justify_content": null,
            "justify_items": null,
            "left": null,
            "margin": null,
            "max_height": null,
            "max_width": null,
            "min_height": null,
            "min_width": null,
            "object_fit": null,
            "object_position": null,
            "order": null,
            "overflow": null,
            "overflow_x": null,
            "overflow_y": null,
            "padding": null,
            "right": null,
            "top": null,
            "visibility": null,
            "width": null
          }
        },
        "8a9135e7790e4ba39c6751fab60c67bc": {
          "model_module": "@jupyter-widgets/controls",
          "model_module_version": "1.5.0",
          "model_name": "DescriptionStyleModel",
          "state": {
            "_model_module": "@jupyter-widgets/controls",
            "_model_module_version": "1.5.0",
            "_model_name": "DescriptionStyleModel",
            "_view_count": null,
            "_view_module": "@jupyter-widgets/base",
            "_view_module_version": "1.2.0",
            "_view_name": "StyleView",
            "description_width": ""
          }
        },
        "a4a082f09b57429a8570d30902f2309c": {
          "model_module": "@jupyter-widgets/controls",
          "model_module_version": "1.5.0",
          "model_name": "HTMLModel",
          "state": {
            "_dom_classes": [],
            "_model_module": "@jupyter-widgets/controls",
            "_model_module_version": "1.5.0",
            "_model_name": "HTMLModel",
            "_view_count": null,
            "_view_module": "@jupyter-widgets/controls",
            "_view_module_version": "1.5.0",
            "_view_name": "HTMLView",
            "description": "",
            "description_tooltip": null,
            "layout": "IPY_MODEL_c7b1ff15444f430fa44677c79c27874a",
            "placeholder": "​",
            "style": "IPY_MODEL_ca7442d9e17c45e79c9dee1f30e3b80a",
            "value": "100%"
          }
        },
        "c7b1ff15444f430fa44677c79c27874a": {
          "model_module": "@jupyter-widgets/base",
          "model_module_version": "1.2.0",
          "model_name": "LayoutModel",
          "state": {
            "_model_module": "@jupyter-widgets/base",
            "_model_module_version": "1.2.0",
            "_model_name": "LayoutModel",
            "_view_count": null,
            "_view_module": "@jupyter-widgets/base",
            "_view_module_version": "1.2.0",
            "_view_name": "LayoutView",
            "align_content": null,
            "align_items": null,
            "align_self": null,
            "border": null,
            "bottom": null,
            "display": null,
            "flex": null,
            "flex_flow": null,
            "grid_area": null,
            "grid_auto_columns": null,
            "grid_auto_flow": null,
            "grid_auto_rows": null,
            "grid_column": null,
            "grid_gap": null,
            "grid_row": null,
            "grid_template_areas": null,
            "grid_template_columns": null,
            "grid_template_rows": null,
            "height": null,
            "justify_content": null,
            "justify_items": null,
            "left": null,
            "margin": null,
            "max_height": null,
            "max_width": null,
            "min_height": null,
            "min_width": null,
            "object_fit": null,
            "object_position": null,
            "order": null,
            "overflow": null,
            "overflow_x": null,
            "overflow_y": null,
            "padding": null,
            "right": null,
            "top": null,
            "visibility": null,
            "width": null
          }
        },
        "ca7442d9e17c45e79c9dee1f30e3b80a": {
          "model_module": "@jupyter-widgets/controls",
          "model_module_version": "1.5.0",
          "model_name": "DescriptionStyleModel",
          "state": {
            "_model_module": "@jupyter-widgets/controls",
            "_model_module_version": "1.5.0",
            "_model_name": "DescriptionStyleModel",
            "_view_count": null,
            "_view_module": "@jupyter-widgets/base",
            "_view_module_version": "1.2.0",
            "_view_name": "StyleView",
            "description_width": ""
          }
        },
        "d8ec8a605e084cd1a09b7c3aa98f9d95": {
          "model_module": "@jupyter-widgets/base",
          "model_module_version": "1.2.0",
          "model_name": "LayoutModel",
          "state": {
            "_model_module": "@jupyter-widgets/base",
            "_model_module_version": "1.2.0",
            "_model_name": "LayoutModel",
            "_view_count": null,
            "_view_module": "@jupyter-widgets/base",
            "_view_module_version": "1.2.0",
            "_view_name": "LayoutView",
            "align_content": null,
            "align_items": null,
            "align_self": null,
            "border": null,
            "bottom": null,
            "display": null,
            "flex": null,
            "flex_flow": null,
            "grid_area": null,
            "grid_auto_columns": null,
            "grid_auto_flow": null,
            "grid_auto_rows": null,
            "grid_column": null,
            "grid_gap": null,
            "grid_row": null,
            "grid_template_areas": null,
            "grid_template_columns": null,
            "grid_template_rows": null,
            "height": null,
            "justify_content": null,
            "justify_items": null,
            "left": null,
            "margin": null,
            "max_height": null,
            "max_width": null,
            "min_height": null,
            "min_width": null,
            "object_fit": null,
            "object_position": null,
            "order": null,
            "overflow": null,
            "overflow_x": null,
            "overflow_y": null,
            "padding": null,
            "right": null,
            "top": null,
            "visibility": null,
            "width": null
          }
        },
        "dab293faa96c41c9bd7520505f23eece": {
          "model_module": "@jupyter-widgets/base",
          "model_module_version": "1.2.0",
          "model_name": "LayoutModel",
          "state": {
            "_model_module": "@jupyter-widgets/base",
            "_model_module_version": "1.2.0",
            "_model_name": "LayoutModel",
            "_view_count": null,
            "_view_module": "@jupyter-widgets/base",
            "_view_module_version": "1.2.0",
            "_view_name": "LayoutView",
            "align_content": null,
            "align_items": null,
            "align_self": null,
            "border": null,
            "bottom": null,
            "display": null,
            "flex": null,
            "flex_flow": null,
            "grid_area": null,
            "grid_auto_columns": null,
            "grid_auto_flow": null,
            "grid_auto_rows": null,
            "grid_column": null,
            "grid_gap": null,
            "grid_row": null,
            "grid_template_areas": null,
            "grid_template_columns": null,
            "grid_template_rows": null,
            "height": null,
            "justify_content": null,
            "justify_items": null,
            "left": null,
            "margin": null,
            "max_height": null,
            "max_width": null,
            "min_height": null,
            "min_width": null,
            "object_fit": null,
            "object_position": null,
            "order": null,
            "overflow": null,
            "overflow_x": null,
            "overflow_y": null,
            "padding": null,
            "right": null,
            "top": null,
            "visibility": null,
            "width": null
          }
        },
        "f5f348ae34a344c8a4cb6a8370826b47": {
          "model_module": "@jupyter-widgets/controls",
          "model_module_version": "1.5.0",
          "model_name": "ProgressStyleModel",
          "state": {
            "_model_module": "@jupyter-widgets/controls",
            "_model_module_version": "1.5.0",
            "_model_name": "ProgressStyleModel",
            "_view_count": null,
            "_view_module": "@jupyter-widgets/base",
            "_view_module_version": "1.2.0",
            "_view_name": "StyleView",
            "bar_color": null,
            "description_width": ""
          }
        }
      }
    }
  },
  "nbformat": 4,
  "nbformat_minor": 0
}
