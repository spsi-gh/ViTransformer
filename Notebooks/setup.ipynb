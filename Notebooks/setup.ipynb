{
 "cells": [
  {
   "cell_type": "code",
   "execution_count": 2,
   "id": "450dcb75",
   "metadata": {},
   "outputs": [],
   "source": [
    "import os\n",
    "os.makedirs(\"../scripts\", exist_ok= True)"
   ]
  },
  {
   "cell_type": "code",
   "execution_count": 6,
   "id": "ca836495",
   "metadata": {},
   "outputs": [
    {
     "name": "stdout",
     "output_type": "stream",
     "text": [
      "Writing ../scripts/data_setup.py\n"
     ]
    }
   ],
   "source": [
    "%%writefile ../scripts/data_setup.py\n",
    "\n",
    "import torchvision\n",
    "from torchvision import datasets, transforms\n",
    "from torch.utils.data import DataLoader\n",
    "from pathlib import Path\n",
    "import os\n",
    "num_workers = os.cpu_count()\n",
    "\n",
    "def create_dataloaders(transform: torchvision.transforms,\n",
    "                       batch_size:int,\n",
    "                       num_workers:int =num_workers):\n",
    "\n",
    "    data_path = Path = (\"data/\")\n",
    "    IMG_SIZE = 224\n",
    "    train_data = datasets.CIFAR10(root= data_path, \n",
    "                                  train=True,\n",
    "                                  download=True,\n",
    "                                  transform=transform)\n",
    "    test_data = datasets.CIFAR10(root=data_path,\n",
    "                                 train=False,\n",
    "                                 download=True,\n",
    "                                 transform=transform)\n",
    "\n",
    "    class_names = train_data.classes\n",
    "\n",
    "    train_dataloader = DataLoader(train_data,\n",
    "                                  batch_size=batch_size,\n",
    "                                  num_workers=num_workers,\n",
    "                                  shuffle=True,\n",
    "                                  pin_memory=True)\n",
    "    test_dataloader = DataLoader(test_data,\n",
    "                                 batch_size=batch_size,\n",
    "                                 num_workers=num_workers,\n",
    "                                 shuffle=True,\n",
    "                                 pin_memory=True)\n",
    "    \n",
    "    return train_dataloader, test_dataloader, class_names\n"
   ]
  },
  {
   "cell_type": "code",
   "execution_count": 3,
   "id": "2caa0442",
   "metadata": {},
   "outputs": [
    {
     "data": {
      "text/plain": [
       "'0.22.1+cpu'"
      ]
     },
     "execution_count": 3,
     "metadata": {},
     "output_type": "execute_result"
    }
   ],
   "source": [
    "import torchvision\n",
    "torchvision.__version__"
   ]
  }
 ],
 "metadata": {
  "kernelspec": {
   "display_name": "venv",
   "language": "python",
   "name": "python3"
  },
  "language_info": {
   "codemirror_mode": {
    "name": "ipython",
    "version": 3
   },
   "file_extension": ".py",
   "mimetype": "text/x-python",
   "name": "python",
   "nbconvert_exporter": "python",
   "pygments_lexer": "ipython3",
   "version": "3.13.3"
  }
 },
 "nbformat": 4,
 "nbformat_minor": 5
}
